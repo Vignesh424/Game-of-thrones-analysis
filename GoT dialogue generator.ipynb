{
 "cells": [
  {
   "cell_type": "code",
   "execution_count": 1,
   "metadata": {},
   "outputs": [],
   "source": [
    "from fastai import *\n",
    "from fastai.text import * "
   ]
  },
  {
   "cell_type": "code",
   "execution_count": 2,
   "metadata": {},
   "outputs": [],
   "source": [
    "import pandas as pd"
   ]
  },
  {
   "cell_type": "code",
   "execution_count": 3,
   "metadata": {},
   "outputs": [],
   "source": [
    "import numpy as np"
   ]
  },
  {
   "cell_type": "code",
   "execution_count": 4,
   "metadata": {},
   "outputs": [],
   "source": [
    "df = pd.read_csv('Got_01.csv')"
   ]
  },
  {
   "cell_type": "code",
   "execution_count": 5,
   "metadata": {},
   "outputs": [
    {
     "data": {
      "text/html": [
       "<div>\n",
       "<style scoped>\n",
       "    .dataframe tbody tr th:only-of-type {\n",
       "        vertical-align: middle;\n",
       "    }\n",
       "\n",
       "    .dataframe tbody tr th {\n",
       "        vertical-align: top;\n",
       "    }\n",
       "\n",
       "    .dataframe thead th {\n",
       "        text-align: right;\n",
       "    }\n",
       "</style>\n",
       "<table border=\"1\" class=\"dataframe\">\n",
       "  <thead>\n",
       "    <tr style=\"text-align: right;\">\n",
       "      <th></th>\n",
       "      <th>Character</th>\n",
       "      <th>dialogue</th>\n",
       "      <th>season</th>\n",
       "      <th>chapter</th>\n",
       "      <th>to</th>\n",
       "      <th>ProD</th>\n",
       "    </tr>\n",
       "  </thead>\n",
       "  <tbody>\n",
       "    <tr>\n",
       "      <th>0</th>\n",
       "      <td>Waymar Royce</td>\n",
       "      <td>What d'you expect? They're savages. One lot s...</td>\n",
       "      <td>1</td>\n",
       "      <td>1</td>\n",
       "      <td>Will</td>\n",
       "      <td>Waymar Royce,Will, What d'you expect? They're ...</td>\n",
       "    </tr>\n",
       "    <tr>\n",
       "      <th>1</th>\n",
       "      <td>Will</td>\n",
       "      <td>I've never seen wildlings do a thing like thi...</td>\n",
       "      <td>1</td>\n",
       "      <td>1</td>\n",
       "      <td>Waymar Royce</td>\n",
       "      <td>Will,Waymar Royce, I've never seen wildlings d...</td>\n",
       "    </tr>\n",
       "    <tr>\n",
       "      <th>2</th>\n",
       "      <td>Waymar Royce</td>\n",
       "      <td>How close did you get?</td>\n",
       "      <td>1</td>\n",
       "      <td>1</td>\n",
       "      <td>Will</td>\n",
       "      <td>Waymar Royce,Will, How close did you get?</td>\n",
       "    </tr>\n",
       "    <tr>\n",
       "      <th>3</th>\n",
       "      <td>Will</td>\n",
       "      <td>Close as any man would.</td>\n",
       "      <td>1</td>\n",
       "      <td>1</td>\n",
       "      <td>Gared</td>\n",
       "      <td>Will,Gared, Close as any man would.</td>\n",
       "    </tr>\n",
       "    <tr>\n",
       "      <th>4</th>\n",
       "      <td>Gared</td>\n",
       "      <td>We should head back to the wall.</td>\n",
       "      <td>1</td>\n",
       "      <td>1</td>\n",
       "      <td>Waymar Royce</td>\n",
       "      <td>Gared,Waymar Royce, We should head back to the...</td>\n",
       "    </tr>\n",
       "  </tbody>\n",
       "</table>\n",
       "</div>"
      ],
      "text/plain": [
       "      Character                                           dialogue  season  \\\n",
       "0  Waymar Royce   What d'you expect? They're savages. One lot s...       1   \n",
       "1          Will   I've never seen wildlings do a thing like thi...       1   \n",
       "2  Waymar Royce                             How close did you get?       1   \n",
       "3          Will                            Close as any man would.       1   \n",
       "4         Gared                   We should head back to the wall.       1   \n",
       "\n",
       "   chapter            to                                               ProD  \n",
       "0        1          Will  Waymar Royce,Will, What d'you expect? They're ...  \n",
       "1        1  Waymar Royce  Will,Waymar Royce, I've never seen wildlings d...  \n",
       "2        1          Will          Waymar Royce,Will, How close did you get?  \n",
       "3        1         Gared                Will,Gared, Close as any man would.  \n",
       "4        1  Waymar Royce  Gared,Waymar Royce, We should head back to the...  "
      ]
     },
     "execution_count": 5,
     "metadata": {},
     "output_type": "execute_result"
    }
   ],
   "source": [
    "df.head()"
   ]
  },
  {
   "cell_type": "code",
   "execution_count": 6,
   "metadata": {},
   "outputs": [],
   "source": [
    "df['dialogue'] = df['dialogue'].str.lower()"
   ]
  },
  {
   "cell_type": "code",
   "execution_count": 32,
   "metadata": {},
   "outputs": [],
   "source": [
    "valid_pct = 0.15 #validation percent\n",
    "df = df.iloc[np.random.permutation(len(df))]\n",
    "cut = int(valid_pct * len(df)) + 1\n",
    "train_df, valid_df = df[cut:], df[:cut]"
   ]
  },
  {
   "cell_type": "code",
   "execution_count": 33,
   "metadata": {},
   "outputs": [
    {
     "data": {
      "text/plain": [
       "(12728, 2247)"
      ]
     },
     "execution_count": 33,
     "metadata": {},
     "output_type": "execute_result"
    }
   ],
   "source": [
    "len(train_df), len(valid_df)"
   ]
  },
  {
   "cell_type": "code",
   "execution_count": 34,
   "metadata": {},
   "outputs": [],
   "source": [
    "nan_rows = df[df['dialogue'].isnull()]"
   ]
  },
  {
   "cell_type": "code",
   "execution_count": 35,
   "metadata": {},
   "outputs": [
    {
     "data": {
      "text/html": [
       "<div>\n",
       "<style scoped>\n",
       "    .dataframe tbody tr th:only-of-type {\n",
       "        vertical-align: middle;\n",
       "    }\n",
       "\n",
       "    .dataframe tbody tr th {\n",
       "        vertical-align: top;\n",
       "    }\n",
       "\n",
       "    .dataframe thead th {\n",
       "        text-align: right;\n",
       "    }\n",
       "</style>\n",
       "<table border=\"1\" class=\"dataframe\">\n",
       "  <thead>\n",
       "    <tr style=\"text-align: right;\">\n",
       "      <th></th>\n",
       "      <th>Character</th>\n",
       "      <th>dialogue</th>\n",
       "      <th>season</th>\n",
       "      <th>chapter</th>\n",
       "      <th>to</th>\n",
       "      <th>ProD</th>\n",
       "    </tr>\n",
       "  </thead>\n",
       "  <tbody>\n",
       "  </tbody>\n",
       "</table>\n",
       "</div>"
      ],
      "text/plain": [
       "Empty DataFrame\n",
       "Columns: [Character, dialogue, season, chapter, to, ProD]\n",
       "Index: []"
      ]
     },
     "execution_count": 35,
     "metadata": {},
     "output_type": "execute_result"
    }
   ],
   "source": [
    "nan_rows"
   ]
  },
  {
   "cell_type": "code",
   "execution_count": 36,
   "metadata": {},
   "outputs": [],
   "source": [
    "data_lm = TextLMDataBunch.from_df('data', train_df, valid_df, text_cols='dialogue',\n",
    "                           label_cols='Character')"
   ]
  },
  {
   "cell_type": "code",
   "execution_count": 37,
   "metadata": {},
   "outputs": [],
   "source": [
    "# data_clas = TextClasDataBunch.from_df('data', train_df, valid_df, text_cols='text', label_cols='author', vocab=data_lm.train_ds.vocab, bs=32)"
   ]
  },
  {
   "cell_type": "code",
   "execution_count": 38,
   "metadata": {},
   "outputs": [
    {
     "data": {
      "text/html": [
       "Total time: 04:56 <p><table style='width:300px; margin-bottom:10px'>\n",
       "  <tr>\n",
       "    <th>epoch</th>\n",
       "    <th>train_loss</th>\n",
       "    <th>valid_loss</th>\n",
       "    <th>accuracy</th>\n",
       "  </tr>\n",
       "  <tr>\n",
       "    <th>1</th>\n",
       "    <th>4.662258</th>\n",
       "    <th>4.153713</th>\n",
       "    <th>0.235689</th>\n",
       "  </tr>\n",
       "</table>\n"
      ],
      "text/plain": [
       "<IPython.core.display.HTML object>"
      ]
     },
     "metadata": {},
     "output_type": "display_data"
    }
   ],
   "source": [
    "learn = language_model_learner(data_lm, pretrained_model=URLs.WT103, drop_mult=0.5)\n",
    "learn.fit_one_cycle(1, 1e-2)"
   ]
  },
  {
   "cell_type": "code",
   "execution_count": 39,
   "metadata": {},
   "outputs": [
    {
     "data": {
      "text/html": [
       "Total time: 12:00 <p><table style='width:300px; margin-bottom:10px'>\n",
       "  <tr>\n",
       "    <th>epoch</th>\n",
       "    <th>train_loss</th>\n",
       "    <th>valid_loss</th>\n",
       "    <th>accuracy</th>\n",
       "  </tr>\n",
       "  <tr>\n",
       "    <th>1</th>\n",
       "    <th>4.072323</th>\n",
       "    <th>3.808126</th>\n",
       "    <th>0.277629</th>\n",
       "  </tr>\n",
       "</table>\n"
      ],
      "text/plain": [
       "<IPython.core.display.HTML object>"
      ]
     },
     "metadata": {},
     "output_type": "display_data"
    }
   ],
   "source": [
    "learn.unfreeze()\n",
    "learn.fit_one_cycle(1, 1e-3)"
   ]
  },
  {
   "cell_type": "code",
   "execution_count": 40,
   "metadata": {},
   "outputs": [],
   "source": [
    "wd=1e-7\n",
    "lr=1e-3\n",
    "lrs = lr"
   ]
  },
  {
   "cell_type": "code",
   "execution_count": 41,
   "metadata": {},
   "outputs": [
    {
     "data": {
      "text/html": [
       "Total time: 2:28:26 <p><table style='width:300px; margin-bottom:10px'>\n",
       "  <tr>\n",
       "    <th>epoch</th>\n",
       "    <th>train_loss</th>\n",
       "    <th>valid_loss</th>\n",
       "    <th>accuracy</th>\n",
       "  </tr>\n",
       "  <tr>\n",
       "    <th>1</th>\n",
       "    <th>3.877617</th>\n",
       "    <th>3.700266</th>\n",
       "    <th>0.289062</th>\n",
       "  </tr>\n",
       "  <tr>\n",
       "    <th>2</th>\n",
       "    <th>3.782961</th>\n",
       "    <th>3.642375</th>\n",
       "    <th>0.297371</th>\n",
       "  </tr>\n",
       "  <tr>\n",
       "    <th>3</th>\n",
       "    <th>3.692081</th>\n",
       "    <th>3.607098</th>\n",
       "    <th>0.300744</th>\n",
       "  </tr>\n",
       "  <tr>\n",
       "    <th>4</th>\n",
       "    <th>3.612764</th>\n",
       "    <th>3.582493</th>\n",
       "    <th>0.303075</th>\n",
       "  </tr>\n",
       "  <tr>\n",
       "    <th>5</th>\n",
       "    <th>3.533655</th>\n",
       "    <th>3.565194</th>\n",
       "    <th>0.304167</th>\n",
       "  </tr>\n",
       "  <tr>\n",
       "    <th>6</th>\n",
       "    <th>3.454555</th>\n",
       "    <th>3.558325</th>\n",
       "    <th>0.305432</th>\n",
       "  </tr>\n",
       "  <tr>\n",
       "    <th>7</th>\n",
       "    <th>3.380046</th>\n",
       "    <th>3.556714</th>\n",
       "    <th>0.306002</th>\n",
       "  </tr>\n",
       "  <tr>\n",
       "    <th>8</th>\n",
       "    <th>3.307379</th>\n",
       "    <th>3.551524</th>\n",
       "    <th>0.306548</th>\n",
       "  </tr>\n",
       "  <tr>\n",
       "    <th>9</th>\n",
       "    <th>3.236665</th>\n",
       "    <th>3.558439</th>\n",
       "    <th>0.307540</th>\n",
       "  </tr>\n",
       "  <tr>\n",
       "    <th>10</th>\n",
       "    <th>3.167480</th>\n",
       "    <th>3.567707</th>\n",
       "    <th>0.304514</th>\n",
       "  </tr>\n",
       "</table>\n"
      ],
      "text/plain": [
       "<IPython.core.display.HTML object>"
      ]
     },
     "metadata": {},
     "output_type": "display_data"
    }
   ],
   "source": [
    "learn.fit(10,lrs, wd)"
   ]
  },
  {
   "cell_type": "code",
   "execution_count": 109,
   "metadata": {},
   "outputs": [],
   "source": [
    "dialogues = []\n",
    "\n",
    "for i in range(20):\n",
    "    dialogue = learn.predict(\"xxbos\", n_words=30, temperature=.9).replace(\"xxbos\",\"\").strip()\n",
    "    dialogues.append(dialogue)"
   ]
  },
  {
   "cell_type": "code",
   "execution_count": 110,
   "metadata": {},
   "outputs": [
    {
     "data": {
      "text/plain": [
       "[\"he 's a hero because you saw him in the light .  i do .  i can never see another . lord stark 's uncle , if anyone\",\n",
       " \"what do you want ?  she 's going to kill my husband . the rest do n't work with me .  why did you come to see it\",\n",
       " \"i want you .  you are .  you 're not a fighter anymore . no no , that 's one of them .  shared with our father\",\n",
       " \"road to king 's landing .  what happened to the dornish men ?  do you really want to know what the hell you want ?  alone .\",\n",
       " \"the men of the house wo n't carry justice for anything .  i delivered a gift for my family and friends in the red keep . i was a\",\n",
       " 'so you could have a choice like that . i preferred to go .  how do you know this war is more important than what will actually happen ?',\n",
       " \"those are the boys !  and you , you think it 's a pleasure . sit on that throne and you sit down for a girl .  oh\",\n",
       " \"you 've them not even to believe things .  and what did you find ? yes ?  a little . i did n't think i 'd walk in\",\n",
       " \"used to you ?  i 've to dungeons and hey .  oh . more than three thousand men .  lord stark .  have you ever seen\",\n",
       " \"me .  you should have talked about me . i 'll come back soon .  good . where is he ?  you do n't want her .\",\n",
       " \"you 're truly doing this , your grace .  do n't know if i am here . she might not . she 's never really been a dwarf .\",\n",
       " 'and what are you really doing ?  i have been speaking with mine since all i ever knew .  my dragons now stand on the iron throne and',\n",
       " 'you have my word .  i will not .  we never need to travel away .  not all of them .  a foreign invasion ? we',\n",
       " \"you think we 're in the capital ?  the dead will never be spared .  the mother is queen of the andals and the first men .\",\n",
       " \"i sent word of this to answer hard .  you 've a allegiance to lady renly . i wanted to take your see somewhere i could have the girls\",\n",
       " \"the queen !  you 're welcome to the wall .  well , you 'll always be my husband .  we 're going to leave king 's landing\",\n",
       " \"you should have more money to buy , dragon or the whole of your land , or bigger then if you 've you ' to pay for the whole man\",\n",
       " \"how can you be quiet ?  robert 's son is going to dead . and if he judge hundreds of innocent people who did n't know the trouble he\",\n",
       " 'not a battle . i remember . battle was fought between us and pure giants . it was the first battle when we were fighting a battle . the mereen',\n",
       " \"i know i did n't know any real things .  and you 'll be here for one day .  it 's a pity to trust you , sansa\"]"
      ]
     },
     "execution_count": 110,
     "metadata": {},
     "output_type": "execute_result"
    }
   ],
   "source": [
    "dialogues"
   ]
  },
  {
   "cell_type": "code",
   "execution_count": null,
   "metadata": {},
   "outputs": [],
   "source": []
  }
 ],
 "metadata": {
  "kernelspec": {
   "display_name": "Python 3",
   "language": "python",
   "name": "python3"
  },
  "language_info": {
   "codemirror_mode": {
    "name": "ipython",
    "version": 3
   },
   "file_extension": ".py",
   "mimetype": "text/x-python",
   "name": "python",
   "nbconvert_exporter": "python",
   "pygments_lexer": "ipython3",
   "version": "3.6.5"
  }
 },
 "nbformat": 4,
 "nbformat_minor": 2
}
